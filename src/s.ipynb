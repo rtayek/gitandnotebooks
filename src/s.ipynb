{
 "cells": [
  {
   "cell_type": "code",
   "execution_count": null,
   "id": "6bf00e15",
   "metadata": {
    "scrolled": true
   },
   "outputs": [],
   "source": [
    "import numpy as np\n",
    "import matplotlib.pyplot as plt\n",
    "import tensorflow as tf\n",
    "from tensorflow import keras as K\n",
    "print(tf.__version__)\n"
   ]
  },
  {
   "cell_type": "code",
   "execution_count": null,
   "id": "dd31370c",
   "metadata": {
    "scrolled": false
   },
   "outputs": [],
   "source": [
    "import p.s as ss\n",
    "from p.s import S\n",
    "if __name__ == '__main__':\n",
    "    #check()\n",
    "    s=S() # python is brain damaged\n",
    "    #time,series=s.generateTimeSeriesDataForWeek1()\n",
    "    time,series=ss.week1() # this works, why doesn't the.\n",
    "    \n",
    "    s=S(time,series)\n",
    "    #print(time,series) # prints start and end.\n",
    "    if False:\n",
    "        s.checkWeek1Series()\n",
    "    train,validate,test=s.split(val=S.SPLIT_TIME)\n",
    "    print(\"entire:\",len(s.series))\n",
    "    print(\"train:\",len(train.series))\n",
    "    print(\"validate:\",len(validate.series))\n",
    "    print(\"test:\",len(test.series))\n",
    "    print(\"entire\")\n",
    "    print(s.series[:5])\n",
    "    print(s.series[-5:])\n",
    "    print(\"train:\")\n",
    "    print(train.series[:5])\n",
    "    print(train.series[-5:])\n",
    "    print(\"validate\")\n",
    "    print(validate.series[:5])\n",
    "    print(validate.series[-5:])\n",
    "\n"
   ]
  },
  {
   "cell_type": "code",
   "execution_count": null,
   "id": "bfde8a7a",
   "metadata": {},
   "outputs": [],
   "source": [
    "    %%capture\n",
    "    s.plot0(title='Original Series')\n"
   ]
  },
  {
   "cell_type": "code",
   "execution_count": null,
   "id": "a2bcd410",
   "metadata": {},
   "outputs": [],
   "source": [
    "    %%capture\n",
    "    train.plot0(title='Training Series')\n",
    "    validate.plot0(title='Validation Series')"
   ]
  },
  {
   "cell_type": "code",
   "execution_count": null,
   "id": "b21f9233",
   "metadata": {
    "scrolled": true
   },
   "outputs": [],
   "source": [
    "print(validate.time[:5],validate.series[:5])\n",
    "print(validate.time[-5:],validate.series[-5:])"
   ]
  },
  {
   "cell_type": "code",
   "execution_count": null,
   "id": "6fd46547",
   "metadata": {},
   "outputs": [],
   "source": [
    "def plot_series(time, series, format=\"-\", title=\"\", label=None, start=0, end=None):\n",
    "    \"\"\"Plot the series\"\"\"\n",
    "    plt.plot(time[start:end], series[start:end], format, label=label)\n",
    "    plt.xlabel(\"Time\")\n",
    "    plt.ylabel(\"Value\")\n",
    "    plt.title(title)\n",
    "    if label:\n",
    "        plt.legend()\n",
    "    plt.grid(True)\n",
    "    \n",
    "ss.testComputeMetrics()\n",
    "naive_forecast =  s.series[S.SPLIT_TIME-1:-1]\n",
    "forecast=S(validate.time,naive_forecast) # is this correct?\n",
    "print(f\"validation series has shape: {validate.series.shape}\\n\")\n",
    "print(f\"naive forecast has shape: {naive_forecast.shape}\\n\")\n",
    "print(f\"comparable with validation series: {validate.series.shape == naive_forecast.shape}\")\n",
    "\n"
   ]
  },
  {
   "cell_type": "code",
   "execution_count": null,
   "id": "30e708cc",
   "metadata": {},
   "outputs": [],
   "source": [
    " %%capture\n",
    "plt.figure(figsize=(10, 6))\n",
    "#plot_series(validate.time,validate.series, label=\"validation set\")\n",
    "validate.plot0(title=\"validation set\")\n",
    "print(\"forcast:\",forecast.time.shape,forecast.series.shape)\n",
    "forecast.plot0(title=\"naive forecast\")\n",
    "#plot_series(forecast.time, forecast.series, label=\"naive forecast\")\n"
   ]
  },
  {
   "cell_type": "code",
   "execution_count": null,
   "id": "48cdb306",
   "metadata": {
    "scrolled": true
   },
   "outputs": [],
   "source": [
    " %%capture\n",
    "plt.figure(figsize=(10, 6))\n",
    "plot_series(validate.time,validate.series,start=330, end=361, label=\"validation set\")\n",
    "plot_series(forecast.time, forecast.series,start=330, end=361, label=\"naive forecast\")\n"
   ]
  },
  {
   "cell_type": "code",
   "execution_count": null,
   "id": "ee0a67e3",
   "metadata": {},
   "outputs": [],
   "source": [
    "print(\"validate\")\n",
    "print(validate.series[:5])\n",
    "print(validate.series[-5:])\n",
    "print(\"forecast\")\n",
    "print(forecast.series[:5])\n",
    "print(forecast.series[-5:])\n",
    "sum=(validate.series-forecast.series).sum()\n",
    "print(\"sum of errors:\",(validate.series-forecast.series).sum())\n",
    "mse, mae = validate.compute_metrics(forecast)\n",
    "print(f\"mse: {mse:.2f}, mae: {mae:.2f} for naive forecast\")\n",
    "# Expected Output: mse: 19.58, mae: 2.60 for naive forecast\n",
    "expected=3.796112\n",
    "\n",
    "if np.abs(sum-expected)>=1e-7:\n",
    "    print(\"ex\",expected,\", ac:\",sum)\n",
    "print(\"error:\",sum-expected)\n",
    "\n"
   ]
  },
  {
   "cell_type": "code",
   "execution_count": null,
   "id": "9ed872a8",
   "metadata": {},
   "outputs": [],
   "source": [
    "# Test your function\n",
    "window_size=30\n",
    "moving_avg =ss. moving_average_forecast(s.series, window_size)\n",
    "print(f\"moving average forecast with whole SERIES has shape: {moving_avg.shape}\\n\")\n",
    "\n",
    "# Slice it so it matches the validation period\n",
    "moving_avg = moving_avg[S.SPLIT_TIME - window_size:]\n",
    "print(f\"moving average forecast after slicing has shape: {moving_avg.shape}\\n\")\n",
    "print(f\"comparable with validation series: {validate.series.shape == moving_avg.shape}\")\n",
    "ma=S(validate.time,moving_avg)\n",
    "print(\"ma:\",ma.time.shape,ma.series.shape)\n",
    "plt.figure(figsize=(10, 6))\n",
    "validate.plot_series(label=\"validation set\")\n",
    "#F.plot_series(time_valid, series_valid)\n",
    "ma.plot_series(label=\"moving average\")\n",
    "#F.plot_series(time_valid, moving_avg)"
   ]
  },
  {
   "cell_type": "code",
   "execution_count": null,
   "id": "b9ebe29e",
   "metadata": {},
   "outputs": [],
   "source": [
    "# Compute evaluation metrics\n",
    "#mse, mae = compute_metrics(series_valid, moving_avg)\n",
    "mse, mae = validate.compute_metrics(ma)\n",
    "\n",
    "print(f\"mse: {mse:.2f}, mae: {mae:.2f} for moving average forecast\")\n",
    "# Expected Output:  mse: 65.79, mae: 4.30 for moving average forecast\n",
    "\n"
   ]
  },
  {
   "cell_type": "code",
   "execution_count": null,
   "id": "551be921",
   "metadata": {},
   "outputs": [],
   "source": [
    "# differences\n",
    "#diff_series =  (SERIES[365:] - SERIES[:-365])\n",
    "#print(\"first vale:\",diff_series,type(diff_series))\n",
    "#diff_time = TIME[365:]\n",
    "ds=s.series[365:] - s.series[:-365]\n",
    "dt=s.time[365:]\n",
    "diff=S(dt,ds)\n",
    "\n",
    "### END CODE HERE\n",
    "\n",
    "print(f\"Whole SERIES has {len(s.series)} elements so the differencing should have {len(s.series)-365} elements\\n\")\n",
    "print(f\"diff series has shape: {diff.series.shape}\\n\")\n",
    "print(f\"x-coordinate of diff series has shape: {diff.time.shape}\\n\")\n",
    "\n",
    "plt.figure(figsize=(10, 6))\n",
    "plot_series(diff.time, diff.series)\n",
    "plt.show()"
   ]
  },
  {
   "cell_type": "code",
   "execution_count": null,
   "id": "420a99fd",
   "metadata": {},
   "outputs": [],
   "source": [
    "# Apply the moving avg to diff series\n",
    "magic50=50\n",
    "diff_moving_avg = ss.moving_average_forecast(diff.series, magic50)\n",
    "print(f\"moving average forecast with diff series has shape: {diff_moving_avg.shape}\\n\")\n",
    "# Perform the correct slicing\n",
    "diff_moving_avg = diff_moving_avg[1100-365-magic50:]\n",
    "print(f\"moving average forecast with diff series after slicing has shape: {diff_moving_avg.shape}\\n\")\n",
    "print(f\"comparable with validation series: {validate.series.shape == diff_moving_avg.shape}\")\n",
    "\n",
    "\n",
    "plt.figure(figsize=(10, 6))\n",
    "plot_series(validate.time, diff.series[1100 - 365:])\n",
    "plot_series(validate.time, diff_moving_avg)\n",
    "plt.show()"
   ]
  },
  {
   "cell_type": "code",
   "execution_count": null,
   "id": "526f9064",
   "metadata": {
    "scrolled": true
   },
   "outputs": [],
   "source": [
    "# Slice the whole SERIES to get the past values\n",
    "#print(SPLIT_TIME,SPLIT_TIME-365)\n",
    "#past_series = SERIES[SPLIT_TIME-365:-365]\n",
    "past_series = s.series[S.SPLIT_TIME-365:-365]\n",
    "print(f\"past series has shape: {past_series.shape}\\n\")\n",
    "# Add the past to the moving average of diff series\n",
    "diff_moving_avg_plus_past = past_series + diff_moving_avg\n",
    "### END CODE HERE\n",
    "\n",
    "print(f\"moving average forecast with diff series plus past has shape: {diff_moving_avg_plus_past.shape}\\n\")\n",
    "print(f\"comparable with validation series: {validate.series.shape == diff_moving_avg_plus_past.shape}\")\n",
    "\n",
    "plt.figure(figsize=(10, 6))\n",
    "plot_series(validate.time, validate.series)\n",
    "plot_series(validate.time, diff_moving_avg_plus_past)\n",
    "plt.show()"
   ]
  },
  {
   "cell_type": "code",
   "execution_count": null,
   "id": "7191c7a2",
   "metadata": {},
   "outputs": [],
   "source": [
    "# Compute evaluation metrics\n",
    "diffMAPlusPast=S(validate.time,diff_moving_avg_plus_past)\n",
    "print(diffMAPlusPast.time.shape,diffMAPlusPast.series.shape)\n",
    "#mse, mae = compute_metrics(series_valid, diff_moving_avg_plus_past)\n",
    "mse, mae = validate.compute_metrics(diffMAPlusPast)\n",
    "print(f\"mse: {mse:.2f}, mae: {mae:.2f} for moving average plus past forecast\")\n",
    "# Expected Output: mse: 8.50, mae: 2.33 for moving average plus past forecast\n",
    "\n"
   ]
  },
  {
   "cell_type": "code",
   "execution_count": null,
   "id": "1fdd434d",
   "metadata": {},
   "outputs": [],
   "source": [
    "# Perform the correct split of SERIES\n",
    "#smooth_past_series = moving_average_forecast(SERIES[SPLIT_TIME - 370:-360], 10)\n",
    "smooth_past_series = ss.moving_average_forecast(s.series[S.SPLIT_TIME - 370:-360], 10)\n",
    "\n",
    "print(f\"smooth past series has shape: {smooth_past_series.shape}\\n\")\n",
    "# Add the smoothed out past values to the moving avg of diff series\n",
    "diff_moving_avg_plus_smooth_past = smooth_past_series +  diff_moving_avg\n",
    "print(f\"moving average forecast with diff series plus past has shape: {diff_moving_avg_plus_smooth_past.shape}\\n\")\n",
    "print(f\"comparable with validation series: {validate.series.shape == diff_moving_avg_plus_smooth_past.shape}\")\n",
    "\n",
    "plt.figure(figsize=(10, 6))\n",
    "plot_series(validate.time, validate.series)\n",
    "plot_series(validate.time, diff_moving_avg_plus_smooth_past)\n",
    "plt.show()"
   ]
  },
  {
   "cell_type": "code",
   "execution_count": null,
   "id": "4f4b48f3",
   "metadata": {},
   "outputs": [],
   "source": [
    "# Compute evaluation metrics\n",
    "smooth=S(validate.time,diff_moving_avg_plus_smooth_past)\n",
    "#mse, mae = compute_metrics(series_valid, diff_moving_avg_plus_smooth_past)\n",
    "mse, mae = validate.compute_metrics(smooth)\n",
    "print(f\"mse: {mse:.2f}, mae: {mae:.2f} for moving average plus smooth past forecast\")\n",
    "# Expected Output: mse: 12.53, mae: 2.20 for moving average plus smooth past forecast\n",
    "\n"
   ]
  },
  {
   "cell_type": "code",
   "execution_count": null,
   "id": "281a65f3",
   "metadata": {},
   "outputs": [],
   "source": [
    "def create_model(window_size=S.WINDOW_SIZE):\n",
    "    model = tf.keras.models.Sequential([\n",
    "        tf.keras.layers.Dense(10, input_shape=[window_size], activation=\"relu\"),\n",
    "        tf.keras.layers.Dense(10, activation=\"relu\"),\n",
    "        tf.keras.layers.Dense(1)\n",
    "        ])\n",
    "    optimizer = tf.keras.optimizers.SGD(momentum=0.9)\n",
    "    model.compile(loss=\"mse\", optimizer= tf.keras.optimizers.SGD(learning_rate=4.0e-6, momentum=0.9))\n",
    "    return model\n",
    "\n",
    "dataset = S.windowed_dataset(sT)\n",
    "model = create_model()\n",
    "model.fit(dataset, epochs=115,verbose=0)\n",
    "layers=model.layers\n",
    "print(len(layers),type(layers[0]))\n",
    "l0=layers[0]\n",
    "print(\"Layer weights {}\".format(l0.get_weights()))"
   ]
  },
  {
   "cell_type": "code",
   "execution_count": null,
   "id": "f33ce2ac",
   "metadata": {},
   "outputs": [],
   "source": [
    "# week 2\n",
    "if False:\n",
    "    s=S.create()\n",
    "    tT,sT,tV,sV,_,_ = s.split(val=S.SPLIT_TIME)\n",
    "    plt.figure(figsize=(10, 6))\n",
    "    s.plot()\n",
    "    plt.show()\n"
   ]
  }
 ],
 "metadata": {
  "kernelspec": {
   "display_name": "Python 3 (ipykernel)",
   "language": "python",
   "name": "python3"
  },
  "language_info": {
   "codemirror_mode": {
    "name": "ipython",
    "version": 3
   },
   "file_extension": ".py",
   "mimetype": "text/x-python",
   "name": "python",
   "nbconvert_exporter": "python",
   "pygments_lexer": "ipython3",
   "version": "3.10.6"
  }
 },
 "nbformat": 4,
 "nbformat_minor": 5
}
