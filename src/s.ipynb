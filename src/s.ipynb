{
 "cells": [
  {
   "cell_type": "code",
   "execution_count": null,
   "id": "f1407936",
   "metadata": {
    "scrolled": true
   },
   "outputs": [],
   "source": [
    "import numpy as np\n",
    "import matplotlib.pyplot as plt\n",
    "import tensorflow as tf\n",
    "from tensorflow import keras as K\n",
    "print(tf.__version__)\n"
   ]
  },
  {
   "cell_type": "code",
   "execution_count": null,
   "id": "dd31370c",
   "metadata": {
    "scrolled": false
   },
   "outputs": [],
   "source": [
    "import p.s as ss\n",
    "from p.s import S\n",
    "if __name__ == '__main__':\n",
    "    #check()\n",
    "    s=S() # python is brain damaged\n",
    "    time,series=s.generateTimeSeriesDataForWeek1()\n",
    "    s=S(time,series)\n",
    "    if False:\n",
    "        s.checkWeek1Series()\n",
    "    tT,sT,tV,sV,_,_ = s.split(val=S.SPLIT_TIME)\n",
    "    print(len(s.series),len(sT))\n",
    "    t=S(tT,sT)\n",
    "    v=S(tV,sV)\n"
   ]
  },
  {
   "cell_type": "code",
   "execution_count": null,
   "id": "4fc6dd11",
   "metadata": {},
   "outputs": [],
   "source": [
    "    %%capture\n",
    "    s.plot0(title='Original Series')\n",
    "    t.plot0(title='Training Series')\n",
    "    v.plot0(title='Validation Series')"
   ]
  },
  {
   "cell_type": "code",
   "execution_count": null,
   "id": "e56a488b",
   "metadata": {},
   "outputs": [],
   "source": [
    "    # week 2\n",
    "    if False:\n",
    "        s=S.create()\n",
    "        tT,sT,tV,sV,_,_ = s.split(val=S.SPLIT_TIME)\n",
    "        plt.figure(figsize=(10, 6))\n",
    "        s.plot()\n",
    "        plt.show()\n"
   ]
  },
  {
   "cell_type": "code",
   "execution_count": null,
   "id": "9bae1e68",
   "metadata": {},
   "outputs": [],
   "source": [
    "ss.testComputeMetrics()\n",
    "naive_forecast =  series[splitTime-1:-1]\n",
    "print(f\"validation series has shape: {series_valid.shape}\\n\")\n",
    "print(f\"naive forecast has shape: {naive_forecast.shape}\\n\")\n",
    "print(f\"comparable with validation series: {series_valid.shape == naive_forecast.shape}\")\n",
    "plt.figure(figsize=(10, 6))\n",
    "F.plot_series(time_valid, series_valid, label=\"validation set\")\n",
    "F.plot_series(time_valid, naive_forecast, label=\"naive forecast\",title='Naive Forecast on Validation Set')"
   ]
  },
  {
   "cell_type": "code",
   "execution_count": null,
   "id": "281a65f3",
   "metadata": {},
   "outputs": [],
   "source": [
    "def create_model(window_size=S.WINDOW_SIZE):\n",
    "    model = tf.keras.models.Sequential([\n",
    "        tf.keras.layers.Dense(10, input_shape=[window_size], activation=\"relu\"),\n",
    "        tf.keras.layers.Dense(10, activation=\"relu\"),\n",
    "        tf.keras.layers.Dense(1)\n",
    "        ])\n",
    "    optimizer = tf.keras.optimizers.SGD(momentum=0.9)\n",
    "    model.compile(loss=\"mse\", optimizer= tf.keras.optimizers.SGD(learning_rate=4.0e-6, momentum=0.9))\n",
    "    return model\n",
    "\n",
    "dataset = S.windowed_dataset(sT)\n",
    "model = create_model()\n",
    "model.fit(dataset, epochs=115,verbose=0)\n",
    "layers=model.layers\n",
    "print(len(layers),type(layers[0]))\n",
    "l0=layers[0]\n",
    "print(\"Layer weights {}\".format(l0.get_weights()))"
   ]
  },
  {
   "cell_type": "code",
   "execution_count": null,
   "id": "cc2b092f",
   "metadata": {},
   "outputs": [],
   "source": []
  }
 ],
 "metadata": {
  "kernelspec": {
   "display_name": "Python 3 (ipykernel)",
   "language": "python",
   "name": "python3"
  },
  "language_info": {
   "codemirror_mode": {
    "name": "ipython",
    "version": 3
   },
   "file_extension": ".py",
   "mimetype": "text/x-python",
   "name": "python",
   "nbconvert_exporter": "python",
   "pygments_lexer": "ipython3",
   "version": "3.10.6"
  }
 },
 "nbformat": 4,
 "nbformat_minor": 5
}
