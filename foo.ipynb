{
 "cells": [
  {
   "cell_type": "code",
   "execution_count": null,
   "metadata": {
    "scrolled": false
   },
   "outputs": [],
   "source": [
    "! pwd\n",
    "! ls -F\n",
    "from __future__ import absolute_import, division, print_function, unicode_literals\n",
    "import foo\n",
    "#from importlib import reload\n",
    "#foo=reload(foo)\n",
    "foo.main()\n",
    "import tensorflow as tf\n",
    "from tensorflow.python.framework import test_util\n",
    "from tensorflow.keras.models import Sequential\n",
    "from tensorflow import keras as K\n",
    "from tensorflow.keras.layers import Dense, Flatten, Softmax\n",
    "#import tensorflow_datasets as tfds\n",
    "print(f'xx tensorflow {tf.__version__}')\n",
    "import bar as F\n",
    "import numpy as np\n",
    "import matplotlib.pyplot as plt\n",
    "\n"
   ]
  },
  {
   "cell_type": "code",
   "execution_count": null,
   "metadata": {},
   "outputs": [],
   "source": [
    "time,series=F.generateTimeSeriesData()\n",
    "plt.figure(figsize=(10, 6))\n",
    "F.plot_series(time,series,title='Original Series')\n",
    "plt.show()"
   ]
  },
  {
   "cell_type": "code",
   "execution_count": null,
   "metadata": {},
   "outputs": [],
   "source": []
  },
  {
   "cell_type": "code",
   "execution_count": null,
   "metadata": {},
   "outputs": [],
   "source": [
    "# Test your function\n",
    "time,series=F.generateTimeSeriesData()\n",
    "print(time.shape)\n",
    "splitTime=1100\n",
    "time_train, series_train, time_valid, series_valid = F.train_val_split(time,series,timeStep)\n",
    "\n",
    "plt.figure(figsize=(10, 6))\n",
    "F.plot_series(time_train, series_train, title=\"Training\")\n",
    "plt.show()\n",
    "\n",
    "plt.figure(figsize=(10, 6))\n",
    "F.plot_series(time_valid, series_valid, title=\"Validation\")\n",
    "plt.show()"
   ]
  },
  {
   "cell_type": "code",
   "execution_count": null,
   "metadata": {},
   "outputs": [],
   "source": [
    "dir(F)\n",
    "F.testComputeMetrics()"
   ]
  },
  {
   "cell_type": "code",
   "execution_count": null,
   "metadata": {},
   "outputs": [],
   "source": [
    "naive_forecast =  series[splitTime-1:-1]\n",
    "print(f\"validation series has shape: {series_valid.shape}\\n\")\n",
    "print(f\"naive forecast has shape: {naive_forecast.shape}\\n\")\n",
    "print(f\"comparable with validation series: {series_valid.shape == naive_forecast.shape}\")\n",
    "plt.figure(figsize=(10, 6))\n",
    "F.plot_series(time_valid, series_valid, label=\"validation set\")\n",
    "F.plot_series(time_valid, naive_forecast, label=\"naive forecast\",title='Naive Forecast on Validation Set')"
   ]
  },
  {
   "cell_type": "code",
   "execution_count": null,
   "metadata": {},
   "outputs": [],
   "source": [
    "# zoom in\n",
    "plt.figure(figsize=(10, 6))\n",
    "F.plot_series(time_valid, series_valid, start=330, end=361, label=\"validation set\")\n",
    "F.plot_series(time_valid, naive_forecast, start=330, end=361, label=\"naive forecast\",title='Zoom in on Naive Forecast on Validation Set')"
   ]
  },
  {
   "cell_type": "code",
   "execution_count": null,
   "metadata": {},
   "outputs": [],
   "source": [
    "mse, mae = F.compute_metrics(series_valid, naive_forecast)\n",
    "\n",
    "print(f\"mse: {mse:.2f}, mae: {mae:.2f} for naive forecast\")\n",
    "# expected: mse: 19.58, mae: 2.60 for naive forecast"
   ]
  },
  {
   "cell_type": "code",
   "execution_count": null,
   "metadata": {},
   "outputs": [],
   "source": []
  }
 ],
 "metadata": {
  "kernelspec": {
   "display_name": "Python 3 (ipykernel)",
   "language": "python",
   "name": "python3"
  },
  "language_info": {
   "codemirror_mode": {
    "name": "ipython",
    "version": 3
   },
   "file_extension": ".py",
   "mimetype": "text/x-python",
   "name": "python",
   "nbconvert_exporter": "python",
   "pygments_lexer": "ipython3",
   "version": "3.10.6"
  }
 },
 "nbformat": 4,
 "nbformat_minor": 4
}
