{
 "cells": [
  {
   "cell_type": "code",
   "execution_count": null,
   "metadata": {
    "scrolled": false
   },
   "outputs": [],
   "source": [
    "! pwd\n",
    "! ls -F\n",
    "from __future__ import absolute_import, division, print_function, unicode_literals\n",
    "import foo\n",
    "#from importlib import reload\n",
    "#foo=reload(foo)\n",
    "foo.main()\n",
    "import tensorflow as tf\n",
    "from tensorflow.python.framework import test_util\n",
    "from tensorflow.keras.models import Sequential\n",
    "from tensorflow import keras as K\n",
    "from tensorflow.keras.layers import Dense, Flatten, Softmax\n",
    "#import tensorflow_datasets as tfds\n",
    "print(f'xx tensorflow {tf.__version__}')\n",
    "import bar as F\n",
    "import numpy as np\n",
    "import matplotlib.pyplot as plt\n",
    "\n"
   ]
  },
  {
   "cell_type": "code",
   "execution_count": null,
   "metadata": {},
   "outputs": [],
   "source": [
    "time,series=F.generateTimeSeriesData()\n",
    "plt.figure(figsize=(10, 6))\n",
    "F.plot_series(time,series,title='Original Series')\n",
    "plt.show()"
   ]
  },
  {
   "cell_type": "code",
   "execution_count": null,
   "metadata": {},
   "outputs": [],
   "source": []
  },
  {
   "cell_type": "code",
   "execution_count": null,
   "metadata": {},
   "outputs": [],
   "source": [
    "# Test your function\n",
    "time,series=F.generateTimeSeriesData()\n",
    "print(time.shape)\n",
    "splitTime=1100\n",
    "time_train, series_train, time_valid, series_valid = F.train_val_split(time,series,splitTime)\n",
    "\n",
    "plt.figure(figsize=(10, 6))\n",
    "F.plot_series(time_train, series_train, title=\"Training\")\n",
    "plt.show()\n",
    "\n",
    "plt.figure(figsize=(10, 6))\n",
    "F.plot_series(time_valid, series_valid, title=\"Validation\")\n",
    "plt.show()"
   ]
  },
  {
   "cell_type": "code",
   "execution_count": null,
   "metadata": {},
   "outputs": [],
   "source": [
    "dir(F)\n",
    "F.testComputeMetrics()"
   ]
  },
  {
   "cell_type": "code",
   "execution_count": null,
   "metadata": {},
   "outputs": [],
   "source": [
    "naive_forecast =  series[splitTime-1:-1]\n",
    "print(f\"validation series has shape: {series_valid.shape}\\n\")\n",
    "print(f\"naive forecast has shape: {naive_forecast.shape}\\n\")\n",
    "print(f\"comparable with validation series: {series_valid.shape == naive_forecast.shape}\")\n",
    "plt.figure(figsize=(10, 6))\n",
    "F.plot_series(time_valid, series_valid, label=\"validation set\")\n",
    "F.plot_series(time_valid, naive_forecast, label=\"naive forecast\",title='Naive Forecast on Validation Set')"
   ]
  },
  {
   "cell_type": "code",
   "execution_count": null,
   "metadata": {},
   "outputs": [],
   "source": [
    "# zoom in\n",
    "plt.figure(figsize=(10, 6))\n",
    "F.plot_series(time_valid, series_valid, start=330, end=361, label=\"validation set\")\n",
    "F.plot_series(time_valid, naive_forecast, start=330, end=361, label=\"naive forecast\",title='Zoom in on Naive Forecast on Validation Set')"
   ]
  },
  {
   "cell_type": "code",
   "execution_count": null,
   "metadata": {},
   "outputs": [],
   "source": [
    "mse, mae = F.compute_metrics(series_valid, naive_forecast)\n",
    "\n",
    "print(f\"mse: {mse:.2f}, mae: {mae:.2f} for naive forecast\")\n",
    "# expected: mse: 19.58, mae: 2.60 for naive forecast"
   ]
  },
  {
   "cell_type": "code",
   "execution_count": null,
   "metadata": {},
   "outputs": [],
   "source": [
    "print(f\"Whole series has {len(series)} elements so the moving average forecast should have {len(series)-30} elements\")"
   ]
  },
  {
   "cell_type": "code",
   "execution_count": null,
   "metadata": {},
   "outputs": [],
   "source": [
    "# Test your function\n",
    "window_size=30\n",
    "moving_avg =F. moving_average_forecast(series, window_size)\n",
    "print(f\"moving average forecast with whole SERIES has shape: {moving_avg.shape}\\n\")\n",
    "\n",
    "# Slice it so it matches the validation period\n",
    "moving_avg = moving_avg[splitTime - window_size:]\n",
    "print(f\"moving average forecast after slicing has shape: {moving_avg.shape}\\n\")\n",
    "print(f\"comparable with validation series: {series_valid.shape == moving_avg.shape}\")\n",
    "\n",
    "\n",
    "plt.figure(figsize=(10, 6))\n",
    "F.plot_series(time_valid, series_valid)\n",
    "F.plot_series(time_valid, moving_avg)"
   ]
  },
  {
   "cell_type": "code",
   "execution_count": null,
   "metadata": {},
   "outputs": [],
   "source": [
    "mse, mae = F.compute_metrics(series_valid, moving_avg)\n",
    "print(f\"mse: {mse:.2f}, mae: {mae:.2f} for moving average forecast\")\n",
    "#Expected Output: mse: 65.79, mae: 4.30 for moving average forecast\n",
    "\n"
   ]
  },
  {
   "cell_type": "code",
   "execution_count": null,
   "metadata": {},
   "outputs": [],
   "source": [
    "year=365\n",
    "diff_series =  (series[year:] - series[:-year])\n",
    "print(\"first vale:\",diff_series,type(diff_series))\n",
    "diff_time = time[year:]\n",
    "print(f\"Whole series has {len(series)} elements so the differencing should have {len(series)-year} elements.\")\n",
    "print(f\"diff series has shape: {diff_series.shape} \")\n",
    "print(f\"x-coordinate of diff series has shape: {diff_time.shape}\\n\")\n",
    "\n",
    "plt.figure(figsize=(10, 6))\n",
    "F.plot_series(diff_time, diff_series)\n",
    "plt.show()"
   ]
  },
  {
   "cell_type": "code",
   "execution_count": null,
   "metadata": {},
   "outputs": [],
   "source": [
    "diff_moving_avg = F.moving_average_forecast(diff_series, 50)\n",
    "print(f\"moving average forecast with diff series has shape: {diff_moving_avg.shape}\\n\")\n",
    "diff_moving_avg = diff_moving_avg[splitTime-year-50:]\n",
    "print(f\"moving average forecast with diff series after slicing has shape: {diff_moving_avg.shape}\\n\")\n",
    "print(f\"comparable with validation series: {series_valid.shape == diff_moving_avg.shape}\")\n",
    "plt.figure(figsize=(10, 6))\n",
    "F.plot_series(time_valid, diff_series[splitTime - year:])\n",
    "F.plot_series(time_valid, diff_moving_avg)\n",
    "plt.show()"
   ]
  },
  {
   "cell_type": "code",
   "execution_count": null,
   "metadata": {},
   "outputs": [],
   "source": [
    "# Slice the whole SERIES to get the past values\n",
    "past_series = series[splitTime-year:-year]\n",
    "print(f\"past series has shape: {past_series.shape}\\n\")\n",
    "# Add the past to the moving average of diff series\n",
    "diff_moving_avg_plus_past = past_series + diff_moving_avg\n",
    "print(f\"moving average forecast with diff series plus past has shape: {diff_moving_avg_plus_past.shape}\\n\")\n",
    "print(f\"comparable with validation series: {series_valid.shape == diff_moving_avg_plus_past.shape}\")\n",
    "plt.figure(figsize=(10, 6))\n",
    "F.plot_series(time_valid, series_valid)\n",
    "F.plot_series(time_valid, diff_moving_avg_plus_past)\n",
    "plt.show()"
   ]
  },
  {
   "cell_type": "code",
   "execution_count": null,
   "metadata": {},
   "outputs": [],
   "source": [
    "# Compute evaluation metrics\n",
    "mse, mae = F.compute_metrics(series_valid, diff_moving_avg_plus_past)\n",
    "print(f\"mse: {mse:.2f}, mae: {mae:.2f} for moving average plus past forecast\")\n",
    "# Expected Output: mse: 8.50, mae: 2.33 for moving average plus past forecast\n",
    "\n"
   ]
  },
  {
   "cell_type": "code",
   "execution_count": null,
   "metadata": {},
   "outputs": [],
   "source": [
    "# Perform the correct split of SERIES\n",
    "smooth_past_series = F.moving_average_forecast(series[splitTime - 370:-360], 10)\n",
    "print(f\"smooth past series has shape: {smooth_past_series.shape}\\n\")\n",
    "diff_moving_avg_plus_smooth_past = smooth_past_series +  diff_moving_avg\n",
    "print(f\"moving average forecast with diff series plus past has shape: {diff_moving_avg_plus_smooth_past.shape}\\n\")\n",
    "print(f\"comparable with validation series: {series_valid.shape == diff_moving_avg_plus_smooth_past.shape}\")\n",
    "plt.figure(figsize=(10, 6))\n",
    "F.plot_series(time_valid, series_valid)\n",
    "F.plot_series(time_valid, diff_moving_avg_plus_smooth_past)\n",
    "plt.show()"
   ]
  },
  {
   "cell_type": "code",
   "execution_count": null,
   "metadata": {},
   "outputs": [],
   "source": [
    "mse, mae = F.compute_metrics(series_valid, diff_moving_avg_plus_smooth_past)\n",
    "print(f\"mse: {mse:.2f}, mae: {mae:.2f} for moving average plus smooth past forecast\")\n",
    "# Expected Output: mse: 12.53, mae: 2.20 for moving average plus smooth past forecast\n",
    "\n"
   ]
  },
  {
   "cell_type": "code",
   "execution_count": null,
   "metadata": {},
   "outputs": [],
   "source": []
  }
 ],
 "metadata": {
  "kernelspec": {
   "display_name": "Python 3 (ipykernel)",
   "language": "python",
   "name": "python3"
  },
  "language_info": {
   "codemirror_mode": {
    "name": "ipython",
    "version": 3
   },
   "file_extension": ".py",
   "mimetype": "text/x-python",
   "name": "python",
   "nbconvert_exporter": "python",
   "pygments_lexer": "ipython3",
   "version": "3.10.6"
  }
 },
 "nbformat": 4,
 "nbformat_minor": 4
}
